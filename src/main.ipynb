{
 "cells": [
  {
   "cell_type": "code",
   "execution_count": 10,
   "metadata": {},
   "outputs": [
    {
     "name": "stderr",
     "output_type": "stream",
     "text": [
      "[nltk_data] Downloading package stopwords to\n",
      "[nltk_data]     /Users/saaket/nltk_data...\n",
      "[nltk_data]   Package stopwords is already up-to-date!\n"
     ]
    }
   ],
   "source": [
    "import re \n",
    "import string \n",
    "from collections import Counter\n",
    "import nltk\n",
    "nltk.download('stopwords')\n",
    "from nltk.corpus import stopwords\n",
    "sw = stopwords.words('english')\n",
    "import csv\n",
    "import sys \n",
    "sys.path.append('..')\n",
    "import json \n",
    "import numpy as np \n",
    "from src.data_processing import collect_document_ids, split_into_documents, clean_entry, remove_stopwords, read_stopwords_file\n",
    "from src.inverted_index import create_inverted_index, calculate_idf, save_inverted_index\n",
    "from src.config import TOTAL_NUMBER_OF_DOCUMENTS, STARTING_DOCUMENT_INDEX\n",
    "from src.document_ranking import compute_tf_idf_scores"
   ]
  },
  {
   "cell_type": "code",
   "execution_count": 12,
   "metadata": {},
   "outputs": [],
   "source": [
    "STARTING_DOCUMENT_INDEX = 54711"
   ]
  },
  {
   "cell_type": "code",
   "execution_count": 2,
   "metadata": {},
   "outputs": [],
   "source": [
    "example_string = '''.I 54711\n",
    ".U\n",
    "88000001\n",
    ".S\n",
    "Alcohol Alcohol 8801; 22(2):103-12\n",
    ".M\n",
    "Acetaldehyde/*ME; Buffers; Catalysis; HEPES/PD; Nuclear Magnetic Resonance; Phosphates/*PD; Protein Binding; Ribonuclease, Pancreatic/AI/*ME; Support, U.S. Gov't, Non-P.H.S.; Support, U.S. Gov't, P.H.S..\n",
    ".T\n",
    "The binding of acetaldehyde to the active site of ribonuclease: alterations in catalytic activity and effects of phosphate.\n",
    ".P\n",
    "JOURNAL ARTICLE.\n",
    ".W\n",
    "Ribonuclease A was reacted with [1-13C,1,2-14C]acetaldehyde and sodium cyanoborohydride in the presence or absence of 0.2 M phosphate. After several hours of incubation at 4 degrees C (pH 7.4) stable acetaldehyde-RNase adducts were formed, and the extent of their formation was similar regardless of the presence of phosphate. Although the total amount of covalent binding was comparable in the absence or presence of phosphate, this active site ligand prevented the inhibition of enzymatic activity seen in its absence. This protective action of phosphate diminished with progressive ethylation of RNase, indicating that the reversible association of phosphate with the active site lysyl residue was overcome by the irreversible process of reductive ethylation. Modified RNase was analysed using 13C proton decoupled NMR spectroscopy. Peaks arising from the covalent binding of enriched acetaldehyde to free amino groups in the absence of phosphate were as follows: NH2-terminal alpha amino group, 47.3 ppm; bulk ethylation at epsilon amino groups of nonessential lysyl residues, 43.0 ppm; and the epsilon amino group of lysine-41 at the active site, 47.4 ppm. In the spectrum of RNase ethylated in the presence of phosphate, the peak at 47.4 ppm was absent. When RNase was selectively premethylated in the presence of phosphate, to block all but the active site lysyl residues and then ethylated in its absence, the signal at 43.0 ppm was greatly diminished, and that arising from the active site lysyl residue at 47.4 ppm was enhanced. These results indicate that phosphate specifically protected the active site lysine from reaction with acetaldehyde, and that modification of this lysine by acetaldehyde adduct formation resulted in inhibition of catalytic activity.\n",
    ".A\n",
    "Mauch TJ; Tuma DJ; Sorrell MF.\n",
    "'''\n"
   ]
  },
  {
   "cell_type": "code",
   "execution_count": 3,
   "metadata": {},
   "outputs": [],
   "source": [
    "doc_ids = collect_document_ids('../data/ohsumed.88-91')"
   ]
  },
  {
   "cell_type": "code",
   "execution_count": 4,
   "metadata": {},
   "outputs": [],
   "source": [
    "corpus = split_into_documents('../data/ohsumed.88-91')"
   ]
  },
  {
   "cell_type": "code",
   "execution_count": 5,
   "metadata": {},
   "outputs": [],
   "source": [
    "inverted_index, Lengths = create_inverted_index(corpus, doc_ids)"
   ]
  },
  {
   "cell_type": "code",
   "execution_count": 6,
   "metadata": {},
   "outputs": [],
   "source": [
    "idf = calculate_idf(inverted_index, TOTAL_NUMBER_OF_DOCUMENTS)"
   ]
  },
  {
   "cell_type": "code",
   "execution_count": null,
   "metadata": {},
   "outputs": [],
   "source": []
  },
  {
   "cell_type": "code",
   "execution_count": 66,
   "metadata": {},
   "outputs": [],
   "source": [
    "def compute_document_scores(inverted_index, query, idf, doc_ids, Lengths):\n",
    "    scores = np.zeros(len(doc_ids))\n",
    "    query = query.split(' ')\n",
    "    tf_query = Counter(query)\n",
    "    for t in query:\n",
    "        w_tq = tf_query[t] * idf[t]\n",
    "        postings_list = inverted_index[t]\n",
    "        for (d, tf_td) in postings_list:\n",
    "            scores[int(d)-int(STARTING_DOCUMENT_INDEX)] += tf_td * w_tq \n",
    "    for i in range(len(doc_ids)):\n",
    "        scores[i] /= Lenghts[str(int(STARTING_DOCUMENT_INDEX)+i)]\n",
    "    \n",
    "    return scores \n",
    "        "
   ]
  },
  {
   "cell_type": "code",
   "execution_count": 8,
   "metadata": {},
   "outputs": [],
   "source": [
    "query =\"pathophysiology treatment disseminated intravascular coagulation\""
   ]
  },
  {
   "cell_type": "code",
   "execution_count": 14,
   "metadata": {},
   "outputs": [
    {
     "data": {
      "text/plain": [
       "54711"
      ]
     },
     "execution_count": 14,
     "metadata": {},
     "output_type": "execute_result"
    }
   ],
   "source": [
    "STARTING_DOCUMENT_INDEX"
   ]
  },
  {
   "cell_type": "code",
   "execution_count": 15,
   "metadata": {},
   "outputs": [],
   "source": [
    "def compute_tf_idf_scores_(inverted_index, query, idf, doc_ids, Lengths):\n",
    "    scores = np.zeros(len(doc_ids))\n",
    "    query = query.split(' ')\n",
    "    tf_query = Counter(query)\n",
    "    for t in query:\n",
    "        w_tq = tf_query[t] * idf[t]\n",
    "        postings_list = inverted_index[t]\n",
    "        for (d, tf_td) in postings_list:\n",
    "            scores[int(d)-STARTING_DOCUMENT_INDEX] += tf_td * w_tq \n",
    "    for i in range(len(doc_ids)):\n",
    "        scores[i] /= Lengths[str(STARTING_DOCUMENT_INDEX+i)]\n",
    "    \n",
    "    return scores \n",
    "        "
   ]
  },
  {
   "cell_type": "code",
   "execution_count": 16,
   "metadata": {},
   "outputs": [],
   "source": [
    "scores = compute_tf_idf_scores_(inverted_index, query, idf, doc_ids, Lengths)"
   ]
  },
  {
   "cell_type": "code",
   "execution_count": 24,
   "metadata": {},
   "outputs": [],
   "source": [
    "def get_top_k_document(doc_ids, scores, k):\n",
    "    idx = (-scores).argsort()[:k]\n",
    "    top_k_docs = [STARTING_DOCUMENT_INDEX + i for i in idx]\n",
    "    return top_k_docs"
   ]
  },
  {
   "cell_type": "code",
   "execution_count": 25,
   "metadata": {},
   "outputs": [],
   "source": [
    "top_k_docs = get_top_k_document(doc_ids, scores, 50)"
   ]
  },
  {
   "cell_type": "code",
   "execution_count": 74,
   "metadata": {},
   "outputs": [],
   "source": [
    "def process_query(query):\n",
    "    patterns = ['<num>.*\\n', '<desc>.*\\n', '<.*>']\n",
    "    for pattern in patterns: \n",
    "        query = re.sub(pattern, ' ', query)\n",
    "    query = clean_entry(query)\n",
    "    query = query.split(' ')\n",
    "    query = [q.lower() for q in query]\n",
    "    stop_words_list = read_stopwords_file('stopwords.txt')\n",
    "    query = remove_stopwords(query, stop_words_list)\n",
    "    query = ' '.join(query)\n",
    "    return query"
   ]
  },
  {
   "cell_type": "code",
   "execution_count": 53,
   "metadata": {},
   "outputs": [],
   "source": [
    "with open('../data/query.ohsu.1-63') as f:\n",
    "    queries = f.read()"
   ]
  },
  {
   "cell_type": "code",
   "execution_count": 54,
   "metadata": {},
   "outputs": [],
   "source": [
    "queries = re.split('</top>\\n', queries)"
   ]
  },
  {
   "cell_type": "code",
   "execution_count": 70,
   "metadata": {},
   "outputs": [
    {
     "data": {
      "text/plain": [
       "'<top>\\n<num> Number: OHSU1\\n<title> 60 year old menopausal woman without hormone replacement therapy\\n<desc> Description:\\nAre there adverse effects on lipids when progesterone is given with estrogen replacement therapy\\n'"
      ]
     },
     "execution_count": 70,
     "metadata": {},
     "output_type": "execute_result"
    }
   ],
   "source": [
    "queries[0]"
   ]
  },
  {
   "cell_type": "code",
   "execution_count": 76,
   "metadata": {},
   "outputs": [
    {
     "data": {
      "text/plain": [
       "'year old menopausal woman without hormone replacement therapy adverse effects lipids progesterone given estrogen replacement therapy'"
      ]
     },
     "execution_count": 76,
     "metadata": {},
     "output_type": "execute_result"
    }
   ],
   "source": [
    "query = process_query(queries[0]); query"
   ]
  },
  {
   "cell_type": "code",
   "execution_count": 77,
   "metadata": {},
   "outputs": [],
   "source": [
    "scores = compute_tf_idf_scores_(inverted_index, query, idf, doc_ids, Lengths)"
   ]
  },
  {
   "cell_type": "code",
   "execution_count": 78,
   "metadata": {},
   "outputs": [],
   "source": [
    "top_50 = get_top_k_document(doc_ids, scores, 50)"
   ]
  },
  {
   "cell_type": "code",
   "execution_count": 84,
   "metadata": {},
   "outputs": [
    {
     "data": {
      "text/plain": [
       "'.U\\n90300564\\n.S\\nJAMA 9010; 264(3):314, 317\\n.M\\nForecasting; Gene Therapy/*/TD; Human.\\n.T\\nHuman gene therapy in coming months? [news]\\n.P\\nNEWS.\\n.A\\nMarwick C.\\n'"
      ]
     },
     "execution_count": 84,
     "metadata": {},
     "output_type": "execute_result"
    }
   ],
   "source": [
    "corpus[237978 - STARTING_DOCUMENT_INDEX]"
   ]
  },
  {
   "cell_type": "code",
   "execution_count": null,
   "metadata": {},
   "outputs": [],
   "source": [
    "def create_log_file(top_k_docs):"
   ]
  }
 ],
 "metadata": {
  "interpreter": {
   "hash": "cd46acfb4a95448d935c417fab42f176f820b969729b5c737279b5be8c31c56c"
  },
  "kernelspec": {
   "display_name": "Python 3.9.9 ('graphled')",
   "language": "python",
   "name": "python3"
  },
  "language_info": {
   "codemirror_mode": {
    "name": "ipython",
    "version": 3
   },
   "file_extension": ".py",
   "mimetype": "text/x-python",
   "name": "python",
   "nbconvert_exporter": "python",
   "pygments_lexer": "ipython3",
   "version": "3.9.9"
  },
  "orig_nbformat": 4
 },
 "nbformat": 4,
 "nbformat_minor": 2
}
